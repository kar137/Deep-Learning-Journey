{
 "cells": [
  {
   "cell_type": "markdown",
   "id": "fb035928",
   "metadata": {},
   "source": [
    "# Word Frequencies in Tweets – My Learning Notes\n",
    "\n",
    "This notebook shows how to build a word frequency dictionary for sentiment analysis, using custom functions and clear explanations. All code is written for learning and sharing on GitHub."
   ]
  },
  {
   "cell_type": "markdown",
   "id": "3cd5121d",
   "metadata": {},
   "source": [
    "## 1. Setup\n",
    "\n",
    "We use NLTK's Twitter samples, plus matplotlib and numpy for visualization and data handling."
   ]
  },
  {
   "cell_type": "code",
   "execution_count": 1,
   "id": "56c396b0",
   "metadata": {},
   "outputs": [
    {
     "name": "stderr",
     "output_type": "stream",
     "text": [
      "[nltk_data] Downloading package twitter_samples to\n",
      "[nltk_data]     C:\\Users\\Dell\\AppData\\Roaming\\nltk_data...\n",
      "[nltk_data]   Package twitter_samples is already up-to-date!\n",
      "[nltk_data] Downloading package stopwords to\n",
      "[nltk_data]     C:\\Users\\Dell\\AppData\\Roaming\\nltk_data...\n",
      "[nltk_data]   Package stopwords is already up-to-date!\n"
     ]
    },
    {
     "data": {
      "text/plain": [
       "True"
      ]
     },
     "execution_count": 1,
     "metadata": {},
     "output_type": "execute_result"
    }
   ],
   "source": [
    "import nltk\n",
    "from nltk.corpus import twitter_samples\n",
    "import matplotlib.pyplot as plt\n",
    "import numpy as np\n",
    "import re, string\n",
    "from nltk.corpus import stopwords\n",
    "from nltk.stem import PorterStemmer\n",
    "from nltk.tokenize import TweetTokenizer\n",
    "\n",
    "nltk.download('twitter_samples')\n",
    "nltk.download('stopwords')"
   ]
  },
  {
   "cell_type": "markdown",
   "id": "77fe1812",
   "metadata": {},
   "source": [
    "## 2. Load Data\n",
    "\n",
    "We load positive and negative tweets, then concatenate them."
   ]
  },
  {
   "cell_type": "code",
   "execution_count": 2,
   "id": "bc6c94a0",
   "metadata": {},
   "outputs": [
    {
     "name": "stdout",
     "output_type": "stream",
     "text": [
      "Number of tweets: 10000\n"
     ]
    }
   ],
   "source": [
    "all_positive_tweets = twitter_samples.strings('positive_tweets.json')\n",
    "all_negative_tweets = twitter_samples.strings('negative_tweets.json')\n",
    "tweets = all_positive_tweets + all_negative_tweets\n",
    "print(f\"Number of tweets: {len(tweets)}\")"
   ]
  },
  {
   "cell_type": "markdown",
   "id": "3ef5ec71",
   "metadata": {},
   "source": [
    "## 3. Create Labels\n",
    "\n",
    "We create a numpy array: 1 for positive, 0 for negative."
   ]
  },
  {
   "cell_type": "code",
   "execution_count": 3,
   "id": "fdd77cb3",
   "metadata": {},
   "outputs": [],
   "source": [
    "labels = np.append(np.ones(len(all_positive_tweets)), np.zeros(len(all_negative_tweets)))"
   ]
  },
  {
   "cell_type": "markdown",
   "id": "459c4418",
   "metadata": {},
   "source": [
    "## 4. Python Dictionaries – Quick Ref\n",
    "\n",
    "Dictionaries are key for NLP feature extraction.\n",
    "\n",
    "```python\n",
    "d = {'key1': 1, 'key2': 2}\n",
    "d['key3'] = -5\n",
    "print(d.get('key7', -1))  # -1 if not found\n",
    "```"
   ]
  },
  {
   "cell_type": "markdown",
   "id": "ca238d80",
   "metadata": {},
   "source": [
    "## 5. Custom Preprocessing Function\n",
    "\n",
    "This function cleans, tokenizes, removes stopwords, and stems a tweet."
   ]
  },
  {
   "cell_type": "code",
   "execution_count": 4,
   "id": "39162da9",
   "metadata": {},
   "outputs": [],
   "source": [
    "def process_tweet_custom(tweet):\n",
    "    # Remove RT, URLs, and hashtags (keep the word)\n",
    "    tweet = re.sub(r'^RT[\\s]+', '', tweet)\n",
    "    tweet = re.sub(r'https?://[^\\s\\n\\r]+', '', tweet)\n",
    "    tweet = re.sub(r'#', '', tweet)\n",
    "    # Tokenize\n",
    "    tokenizer = TweetTokenizer(preserve_case=False, strip_handles=True, reduce_len=True)\n",
    "    tokens = tokenizer.tokenize(tweet)\n",
    "    # Remove stopwords and punctuation\n",
    "    sw = set(stopwords.words('english'))\n",
    "    tokens = [t for t in tokens if t not in sw and t not in string.punctuation]\n",
    "    # Stemming\n",
    "    stemmer = PorterStemmer()\n",
    "    return [stemmer.stem(t) for t in tokens]"
   ]
  },
  {
   "cell_type": "markdown",
   "id": "e1bc143e",
   "metadata": {},
   "source": [
    "## 6. Custom build_freqs Function\n",
    "\n",
    "This function builds a dictionary of word frequencies for each sentiment."
   ]
  },
  {
   "cell_type": "code",
   "execution_count": 5,
   "id": "3c895e11",
   "metadata": {},
   "outputs": [],
   "source": [
    "def build_freqs_custom(tweets, ys):\n",
    "    yslist = np.squeeze(ys).tolist()\n",
    "    freqs = {}\n",
    "    for y, tweet in zip(yslist, tweets):\n",
    "        for word in process_tweet_custom(tweet):\n",
    "            pair = (word, int(y))\n",
    "            freqs[pair] = freqs.get(pair, 0) + 1\n",
    "    return freqs"
   ]
  },
  {
   "cell_type": "markdown",
   "id": "99b92be9",
   "metadata": {},
   "source": [
    "## 7. Build the Frequency Dictionary\n",
    "\n",
    "Let's use our custom functions to build the frequency dictionary and inspect it."
   ]
  },
  {
   "cell_type": "code",
   "execution_count": 6,
   "id": "57897730",
   "metadata": {},
   "outputs": [
    {
     "name": "stdout",
     "output_type": "stream",
     "text": [
      "type(freqs) = <class 'dict'>\n",
      "len(freqs) = 13140\n"
     ]
    }
   ],
   "source": [
    "freqs = build_freqs_custom(tweets, labels)\n",
    "print(f'type(freqs) = {type(freqs)}')\n",
    "print(f'len(freqs) = {len(freqs)}')"
   ]
  },
  {
   "cell_type": "markdown",
   "id": "cab3c335",
   "metadata": {},
   "source": [
    "## 8. Table of Word Counts\n",
    "\n",
    "Let's select some words and build a table of their positive and negative counts."
   ]
  },
  {
   "cell_type": "code",
   "execution_count": 7,
   "id": "ba080f00",
   "metadata": {},
   "outputs": [
    {
     "data": {
      "text/plain": [
       "[['happi', 212, 25],\n",
       " ['merri', 1, 0],\n",
       " ['nice', 99, 19],\n",
       " ['good', 238, 101],\n",
       " ['bad', 18, 73],\n",
       " ['sad', 5, 123],\n",
       " ['mad', 4, 11],\n",
       " ['best', 65, 22],\n",
       " ['pretti', 20, 15],\n",
       " ['❤', 29, 21],\n",
       " [':)', 3691, 2],\n",
       " [':(', 1, 4584],\n",
       " ['😒', 2, 3],\n",
       " ['😬', 0, 2],\n",
       " ['😄', 5, 1],\n",
       " ['😍', 5, 1],\n",
       " ['♛', 0, 210],\n",
       " ['song', 22, 27],\n",
       " ['idea', 27, 10],\n",
       " ['power', 7, 6],\n",
       " ['play', 46, 48],\n",
       " ['magnific', 2, 0]]"
      ]
     },
     "execution_count": 7,
     "metadata": {},
     "output_type": "execute_result"
    }
   ],
   "source": [
    "keys = ['happi', 'merri', 'nice', 'good', 'bad', 'sad', 'mad', 'best', 'pretti',\n",
    "        '❤', ':)', ':(', '😒', '😬', '😄', '😍', '♛',\n",
    "        'song', 'idea', 'power', 'play', 'magnific']\n",
    "data = []\n",
    "for word in keys:\n",
    "    pos = freqs.get((word, 1), 0)\n",
    "    neg = freqs.get((word, 0), 0)\n",
    "    data.append([word, pos, neg])\n",
    "data"
   ]
  },
  {
   "cell_type": "markdown",
   "id": "4cee274d",
   "metadata": {},
   "source": [
    "## 9. Visualizing Word Frequencies\n",
    "\n",
    "We use a scatter plot (log scale) to visualize the word counts. The red line divides positive and negative areas."
   ]
  },
  {
   "cell_type": "code",
   "execution_count": 8,
   "id": "3ca98d1a",
   "metadata": {},
   "outputs": [
    {
     "name": "stderr",
     "output_type": "stream",
     "text": [
      "c:\\Users\\Dell\\OneDrive\\Desktop\\KaranCodes\\Goal-to-be-ML-Engineer-2026\\ML-DL\\Deep-Learning-Journey\\env\\Lib\\site-packages\\IPython\\core\\pylabtools.py:170: UserWarning: Glyph 128556 (\\N{GRIMACING FACE}) missing from font(s) DejaVu Sans.\n",
      "  fig.canvas.print_figure(bytes_io, **kw)\n"
     ]
    },
    {
     "data": {
      "image/png": "[encoded data removed]",
      "text/plain": [
       "<Figure size 800x800 with 1 Axes>"
      ]
     },
     "metadata": {},
     "output_type": "display_data"
    }
   ],
   "source": [
    "fig, ax = plt.subplots(figsize=(8, 8))\n",
    "x = np.log([x[1] + 1 for x in data])\n",
    "y = np.log([x[2] + 1 for x in data])\n",
    "ax.scatter(x, y)\n",
    "plt.xlabel(\"Log Positive count\")\n",
    "plt.ylabel(\"Log Negative count\")\n",
    "for i in range(len(data)):\n",
    "    ax.annotate(data[i][0], (x[i], y[i]), fontsize=12)\n",
    "ax.plot([0, 9], [0, 9], color='red')\n",
    "plt.show()"
   ]
  },
  {
   "cell_type": "markdown",
   "id": "8a892c3d",
   "metadata": {},
   "source": [
    "## 10. Takeaways\n",
    "\n",
    "- Emoticons like :) and :( are strong sentiment signals—don't remove them in preprocessing.\n",
    "- Dictionaries are fast and flexible for NLP feature extraction.\n",
    "- Custom functions make your workflow reproducible and easy to share.\n",
    "- This frequency dictionary is a foundation for feature engineering in sentiment analysis."
   ]
  }
 ],
 "metadata": {
  "kernelspec": {
   "display_name": "env (3.13.7)",
   "language": "python",
   "name": "python3"
  },
  "language_info": {
   "codemirror_mode": {
    "name": "ipython",
    "version": 3
   },
   "file_extension": ".py",
   "mimetype": "text/x-python",
   "name": "python",
   "nbconvert_exporter": "python",
   "pygments_lexer": "ipython3",
   "version": "3.13.7"
  }
 },
 "nbformat": 4,
 "nbformat_minor": 5
}
