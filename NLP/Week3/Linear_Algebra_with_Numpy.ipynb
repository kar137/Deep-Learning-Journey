{
 "cells": [
  {
   "cell_type": "markdown",
   "id": "417c19e0",
   "metadata": {},
   "source": [
    "# Linear Algebra in Python with NumPy\n",
    "\n",
    "This notebook is a hands-on review of basic linear algebra concepts and how to use them in Python with NumPy. All code and explanations are my own, stepwise, and educational for sharing on GitHub.\n",
    "\n",
    "**Outline:**\n",
    "1. Introduction and Imports\n",
    "2. Lists vs. NumPy Arrays\n",
    "3. Algebraic Operators: Arrays vs. Lists\n",
    "4. Matrix Creation and Pitfalls\n",
    "5. Matrix Operations: Scaling, Addition, Subtraction\n",
    "6. Element-wise Multiplication\n",
    "7. Matrix Transpose\n",
    "8. Norms and Dot Products\n",
    "9. Sums and Means by Axis\n",
    "10. Centering Matrices\n"
   ]
  },
  {
   "cell_type": "markdown",
   "id": "02076dd0",
   "metadata": {},
   "source": [
    "## 1. Introduction and Imports\n",
    "\n",
    "NumPy is the core library for array and matrix operations in Python. Let's import it and get started!"
   ]
  },
  {
   "cell_type": "code",
   "execution_count": 1,
   "id": "7357cc9b",
   "metadata": {},
   "outputs": [],
   "source": [
    "import numpy as np  # The swiss knife of the data scientist."
   ]
  },
  {
   "cell_type": "markdown",
   "id": "02d18ba3",
   "metadata": {},
   "source": [
    "## 2. Lists vs. NumPy Arrays\n",
    "\n",
    "Let's see the difference between a Python list and a NumPy array."
   ]
  },
  {
   "cell_type": "code",
   "execution_count": 2,
   "id": "f6c6d320",
   "metadata": {},
   "outputs": [
    {
     "name": "stdout",
     "output_type": "stream",
     "text": [
      "[1, 2, 3, 4, 5]\n",
      "[1 2 3 4]\n",
      "<class 'list'>\n",
      "<class 'numpy.ndarray'>\n"
     ]
    }
   ],
   "source": [
    "alist = [1, 2, 3, 4, 5]   # Define a python list. It looks like an np array\n",
    "narray = np.array([1, 2, 3, 4]) # Define a numpy array\n",
    "\n",
    "print(alist)\n",
    "print(narray)\n",
    "print(type(alist))\n",
    "print(type(narray))"
   ]
  },
  {
   "cell_type": "markdown",
   "id": "9af8768d",
   "metadata": {},
   "source": [
    "## 3. Algebraic Operators: Arrays vs. Lists\n",
    "\n",
    "Let's see how addition and multiplication behave differently for NumPy arrays and Python lists."
   ]
  },
  {
   "cell_type": "code",
   "execution_count": 3,
   "id": "043286a4",
   "metadata": {},
   "outputs": [
    {
     "name": "stdout",
     "output_type": "stream",
     "text": [
      "[2 4 6 8]\n",
      "[1, 2, 3, 4, 5, 1, 2, 3, 4, 5]\n",
      "[ 3  6  9 12]\n",
      "[1, 2, 3, 4, 5, 1, 2, 3, 4, 5, 1, 2, 3, 4, 5]\n"
     ]
    }
   ],
   "source": [
    "print(narray + narray)  # Element-wise addition\n",
    "print(alist + alist)    # List concatenation\n",
    "\n",
    "print(narray * 3)       # Element-wise scaling\n",
    "print(alist * 3)        # List repetition"
   ]
  },
  {
   "cell_type": "markdown",
   "id": "9c326d60",
   "metadata": {},
   "source": [
    "## 4. Matrix Creation and Pitfalls\n",
    "\n",
    "Let's see how to create matrices (arrays of arrays) in NumPy, and what happens if the rows have different lengths."
   ]
  },
  {
   "cell_type": "code",
   "execution_count": 4,
   "id": "e2c2f58b",
   "metadata": {},
   "outputs": [
    {
     "name": "stdout",
     "output_type": "stream",
     "text": [
      "[[1 2 3 4]\n",
      " [1 2 3 4]\n",
      " [1 2 3 4]]\n",
      "[[1 2 3 4 5]\n",
      " [1 2 3 4 5]\n",
      " [1 2 3 4 5]]\n",
      "[[1 2 3 4]\n",
      " [1 1 1 1]\n",
      " [1 2 3 4]]\n",
      "[[1 2]\n",
      " [3 4]]\n",
      "[[2 4]\n",
      " [6 8]]\n"
     ]
    },
    {
     "ename": "ValueError",
     "evalue": "setting an array element with a sequence. The requested array has an inhomogeneous shape after 1 dimensions. The detected shape was (3,) + inhomogeneous part.",
     "output_type": "error",
     "traceback": [
      "\u001b[31m---------------------------------------------------------------------------\u001b[39m",
      "\u001b[31mValueError\u001b[39m                                Traceback (most recent call last)",
      "\u001b[36mCell\u001b[39m\u001b[36m \u001b[39m\u001b[32mIn[4]\u001b[39m\u001b[32m, line 15\u001b[39m\n\u001b[32m     12\u001b[39m \u001b[38;5;28mprint\u001b[39m(okmatrix * \u001b[32m2\u001b[39m)\n\u001b[32m     14\u001b[39m \u001b[38;5;66;03m# Example of a malformed matrix\u001b[39;00m\n\u001b[32m---> \u001b[39m\u001b[32m15\u001b[39m badmatrix = \u001b[43mnp\u001b[49m\u001b[43m.\u001b[49m\u001b[43marray\u001b[49m\u001b[43m(\u001b[49m\u001b[43m[\u001b[49m\u001b[43m[\u001b[49m\u001b[32;43m1\u001b[39;49m\u001b[43m,\u001b[49m\u001b[43m \u001b[49m\u001b[32;43m2\u001b[39;49m\u001b[43m]\u001b[49m\u001b[43m,\u001b[49m\u001b[43m \u001b[49m\u001b[43m[\u001b[49m\u001b[32;43m3\u001b[39;49m\u001b[43m,\u001b[49m\u001b[43m \u001b[49m\u001b[32;43m4\u001b[39;49m\u001b[43m]\u001b[49m\u001b[43m,\u001b[49m\u001b[43m \u001b[49m\u001b[43m[\u001b[49m\u001b[32;43m5\u001b[39;49m\u001b[43m,\u001b[49m\u001b[43m \u001b[49m\u001b[32;43m6\u001b[39;49m\u001b[43m,\u001b[49m\u001b[43m \u001b[49m\u001b[32;43m7\u001b[39;49m\u001b[43m]\u001b[49m\u001b[43m]\u001b[49m\u001b[43m)\u001b[49m\n\u001b[32m     16\u001b[39m \u001b[38;5;28mprint\u001b[39m(badmatrix)\n\u001b[32m     17\u001b[39m \u001b[38;5;28mprint\u001b[39m(badmatrix * \u001b[32m2\u001b[39m)\n",
      "\u001b[31mValueError\u001b[39m: setting an array element with a sequence. The requested array has an inhomogeneous shape after 1 dimensions. The detected shape was (3,) + inhomogeneous part."
     ]
    }
   ],
   "source": [
    "npmatrix1 = np.array([narray, narray, narray]) # Matrix initialized with NumPy arrays\n",
    "npmatrix2 = np.array([alist, alist, alist])    # Matrix initialized with lists\n",
    "npmatrix3 = np.array([narray, [1, 1, 1, 1], narray]) # Matrix with mixed types\n",
    "\n",
    "print(npmatrix1)\n",
    "print(npmatrix2)\n",
    "print(npmatrix3)\n",
    "\n",
    "# Example of a correct matrix\n",
    "okmatrix = np.array([[1, 2], [3, 4]])\n",
    "print(okmatrix)\n",
    "print(okmatrix * 2)\n",
    "\n",
    "# Example of a malformed matrix\n",
    "badmatrix = np.array([[1, 2], [3, 4], [5, 6, 7]])\n",
    "print(badmatrix)\n",
    "print(badmatrix * 2)"
   ]
  },
  {
   "cell_type": "markdown",
   "id": "926e27af",
   "metadata": {},
   "source": [
    "## 5. Matrix Operations: Scaling, Addition, Subtraction\n",
    "\n",
    "Let's see how to scale, add, and subtract matrices in NumPy."
   ]
  },
  {
   "cell_type": "code",
   "execution_count": 5,
   "id": "9b932a71",
   "metadata": {},
   "outputs": [
    {
     "name": "stdout",
     "output_type": "stream",
     "text": [
      "[[3 5]\n",
      " [7 9]]\n",
      "[[2 4]\n",
      " [6 8]]\n",
      "[[0 0]\n",
      " [0 0]]\n"
     ]
    }
   ],
   "source": [
    "# Scale by 2 and translate 1 unit the matrix\n",
    "result = okmatrix * 2 + 1\n",
    "print(result)\n",
    "\n",
    "# Add two compatible matrices\n",
    "result1 = okmatrix + okmatrix\n",
    "print(result1)\n",
    "\n",
    "# Subtract two compatible matrices\n",
    "result2 = okmatrix - okmatrix\n",
    "print(result2)"
   ]
  },
  {
   "cell_type": "markdown",
   "id": "fabb639d",
   "metadata": {},
   "source": [
    "## 6. Element-wise Multiplication\n",
    "\n",
    "The `*` operator on arrays/matrices means element-wise multiplication, not the dot product."
   ]
  },
  {
   "cell_type": "code",
   "execution_count": 6,
   "id": "b41908af",
   "metadata": {},
   "outputs": [
    {
     "name": "stdout",
     "output_type": "stream",
     "text": [
      "[[ 1  4]\n",
      " [ 9 16]]\n"
     ]
    }
   ],
   "source": [
    "result = okmatrix * okmatrix # Multiply each element by itself\n",
    "print(result)"
   ]
  },
  {
   "cell_type": "markdown",
   "id": "75f63ee9",
   "metadata": {},
   "source": [
    "## 7. Matrix Transpose\n",
    "\n",
    "The transpose operator `.T` flips a matrix over its diagonal."
   ]
  },
  {
   "cell_type": "code",
   "execution_count": 7,
   "id": "46fae5a8",
   "metadata": {},
   "outputs": [
    {
     "name": "stdout",
     "output_type": "stream",
     "text": [
      "Original matrix 3 x 2\n",
      "[[1 2]\n",
      " [3 4]\n",
      " [5 6]]\n",
      "Transposed matrix 2 x 3\n",
      "[[1 3 5]\n",
      " [2 4 6]]\n",
      "Original array\n",
      "[1 2 3 4]\n",
      "Transposed array\n",
      "[1 2 3 4]\n",
      "Original array\n",
      "[[1 2 3 4]]\n",
      "Transposed array\n",
      "[[1]\n",
      " [2]\n",
      " [3]\n",
      " [4]]\n"
     ]
    }
   ],
   "source": [
    "matrix3x2 = np.array([[1, 2], [3, 4], [5, 6]]) # 3x2 matrix\n",
    "print('Original matrix 3 x 2')\n",
    "print(matrix3x2)\n",
    "print('Transposed matrix 2 x 3')\n",
    "print(matrix3x2.T)\n",
    "\n",
    "nparray = np.array([1, 2, 3, 4]) # 1D array\n",
    "print('Original array')\n",
    "print(nparray)\n",
    "print('Transposed array')\n",
    "print(nparray.T)\n",
    "\n",
    "nparray2d = np.array([[1, 2, 3, 4]]) # 1x4 matrix\n",
    "print('Original array')\n",
    "print(nparray2d)\n",
    "print('Transposed array')\n",
    "print(nparray2d.T)"
   ]
  },
  {
   "cell_type": "markdown",
   "id": "58773364",
   "metadata": {},
   "source": [
    "## 8. Norms and Dot Products\n",
    "\n",
    "Let's compute the norm of vectors and matrices, and see different ways to calculate the dot product."
   ]
  },
  {
   "cell_type": "code",
   "execution_count": 8,
   "id": "1f15b3e6",
   "metadata": {},
   "outputs": [
    {
     "name": "stdout",
     "output_type": "stream",
     "text": [
      "5.477225575051661\n",
      "5.477225575051661\n",
      "[3.74165739 3.74165739]\n",
      "[1.41421356 2.82842712 4.24264069]\n",
      "38\n",
      "38\n",
      "38\n",
      "38\n",
      "11\n"
     ]
    }
   ],
   "source": [
    "nparray1 = np.array([1, 2, 3, 4])\n",
    "norm1 = np.linalg.norm(nparray1)\n",
    "\n",
    "nparray2 = np.array([[1, 2], [3, 4]])\n",
    "norm2 = np.linalg.norm(nparray2)\n",
    "\n",
    "print(norm1)\n",
    "print(norm2)\n",
    "\n",
    "nparray3 = np.array([[1, 1], [2, 2], [3, 3]])\n",
    "normByCols = np.linalg.norm(nparray3, axis=0)\n",
    "normByRows = np.linalg.norm(nparray3, axis=1)\n",
    "print(normByCols)\n",
    "print(normByRows)\n",
    "\n",
    "# Dot product flavors\n",
    "nparray4 = np.array([0, 1, 2, 3])\n",
    "nparray5 = np.array([4, 5, 6, 7])\n",
    "print(np.dot(nparray4, nparray5))\n",
    "print(np.sum(nparray4 * nparray5))\n",
    "print(nparray4 @ nparray5)\n",
    "flavor4 = 0\n",
    "for a, b in zip(nparray4, nparray5):\n",
    "    flavor4 += a * b\n",
    "print(flavor4)\n",
    "\n",
    "# Dot product with lists\n",
    "print(np.dot([1, 2], [3, 4]))"
   ]
  },
  {
   "cell_type": "markdown",
   "id": "d4477aa0",
   "metadata": {},
   "source": [
    "## 9. Sums and Means by Axis\n",
    "\n",
    "You can sum or average by rows or columns using the `axis` parameter."
   ]
  },
  {
   "cell_type": "code",
   "execution_count": 9,
   "id": "9c4394a1",
   "metadata": {},
   "outputs": [
    {
     "name": "stdout",
     "output_type": "stream",
     "text": [
      "Sum by columns: \n",
      "[ 6 -6]\n",
      "Sum by rows:\n",
      "[0 0 0]\n",
      "Matrix mean: \n",
      "0.0\n",
      "Mean by columns: \n",
      "[ 2. -2.]\n",
      "Mean by rows:\n",
      "[0. 0. 0.]\n",
      "0.0  ==  0.0\n"
     ]
    }
   ],
   "source": [
    "nparray2 = np.array([[1, -1], [2, -2], [3, -3]])\n",
    "sumByCols = np.sum(nparray2, axis=0)\n",
    "sumByRows = np.sum(nparray2, axis=1)\n",
    "print('Sum by columns: ')\n",
    "print(sumByCols)\n",
    "print('Sum by rows:')\n",
    "print(sumByRows)\n",
    "\n",
    "mean = np.mean(nparray2)\n",
    "meanByCols = np.mean(nparray2, axis=0)\n",
    "meanByRows = np.mean(nparray2, axis=1)\n",
    "print('Matrix mean: ')\n",
    "print(mean)\n",
    "print('Mean by columns: ')\n",
    "print(meanByCols)\n",
    "print('Mean by rows:')\n",
    "print(meanByRows)\n",
    "\n",
    "# Static vs dynamic mean\n",
    "mean1 = np.mean(nparray2)\n",
    "mean2 = nparray2.mean()\n",
    "print(mean1, ' == ', mean2)"
   ]
  },
  {
   "cell_type": "markdown",
   "id": "36fae380",
   "metadata": {},
   "source": [
    "## 10. Centering Matrices\n",
    "\n",
    "Centering a matrix means subtracting the mean of each column (or row) from the elements."
   ]
  },
  {
   "cell_type": "code",
   "execution_count": 10,
   "id": "c21a26a5",
   "metadata": {},
   "outputs": [
    {
     "name": "stdout",
     "output_type": "stream",
     "text": [
      "Original matrix\n",
      "[[1 1]\n",
      " [2 2]\n",
      " [3 3]]\n",
      "Centered by columns matrix\n",
      "[[-1. -1.]\n",
      " [ 0.  0.]\n",
      " [ 1.  1.]]\n",
      "New mean by column\n",
      "[0. 0.]\n",
      "Original matrix\n",
      "[[1 3]\n",
      " [2 4]\n",
      " [3 5]]\n",
      "Centered by rows matrix\n",
      "[[-1.  1.]\n",
      " [-1.  1.]\n",
      " [-1.  1.]]\n",
      "New mean by rows\n",
      "[0. 0. 0.]\n"
     ]
    }
   ],
   "source": [
    "nparray2 = np.array([[1, 1], [2, 2], [3, 3]])\n",
    "nparrayCentered = nparray2 - np.mean(nparray2, axis=0)\n",
    "print('Original matrix')\n",
    "print(nparray2)\n",
    "print('Centered by columns matrix')\n",
    "print(nparrayCentered)\n",
    "print('New mean by column')\n",
    "print(nparrayCentered.mean(axis=0))\n",
    "\n",
    "# Centering by rows (transpose, center, transpose back)\n",
    "nparray2 = np.array([[1, 3], [2, 4], [3, 5]])\n",
    "nparrayCentered = nparray2.T - np.mean(nparray2, axis=1)\n",
    "nparrayCentered = nparrayCentered.T\n",
    "print('Original matrix')\n",
    "print(nparray2)\n",
    "print('Centered by rows matrix')\n",
    "print(nparrayCentered)\n",
    "print('New mean by rows')\n",
    "print(nparrayCentered.mean(axis=1))"
   ]
  }
 ],
 "metadata": {
  "kernelspec": {
   "display_name": "env (3.13.7)",
   "language": "python",
   "name": "python3"
  },
  "language_info": {
   "codemirror_mode": {
    "name": "ipython",
    "version": 3
   },
   "file_extension": ".py",
   "mimetype": "text/x-python",
   "name": "python",
   "nbconvert_exporter": "python",
   "pygments_lexer": "ipython3",
   "version": "3.13.7"
  }
 },
 "nbformat": 4,
 "nbformat_minor": 5
}
