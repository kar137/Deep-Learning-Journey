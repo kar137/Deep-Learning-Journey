{
 "cells": [
  {
   "cell_type": "markdown",
   "id": "17af17a5",
   "metadata": {},
   "source": [
    "# Assignment 3: Hello Vectors (with Synthetic Data)\n",
    "\n",
    "This notebook explores word vectors and their properties using a synthetic dataset. You'll predict analogies, use PCA to visualize embeddings, and compare word similarities."
   ]
  },
  {
   "cell_type": "markdown",
   "id": "33b826ef",
   "metadata": {},
   "source": [
    "## 1. Creating a Synthetic Dataset\n",
    "We'll create a small set of synthetic word vectors and a simple analogy dataset for demonstration."
   ]
  },
  {
   "cell_type": "code",
   "execution_count": 2,
   "id": "e2ac7041",
   "metadata": {},
   "outputs": [
    {
     "name": "stdout",
     "output_type": "stream",
     "text": [
      "Loaded 23 synthetic word vectors.\n"
     ]
    },
    {
     "data": {
      "text/html": [
       "<div>\n",
       "<style scoped>\n",
       "    .dataframe tbody tr th:only-of-type {\n",
       "        vertical-align: middle;\n",
       "    }\n",
       "\n",
       "    .dataframe tbody tr th {\n",
       "        vertical-align: top;\n",
       "    }\n",
       "\n",
       "    .dataframe thead th {\n",
       "        text-align: right;\n",
       "    }\n",
       "</style>\n",
       "<table border=\"1\" class=\"dataframe\">\n",
       "  <thead>\n",
       "    <tr style=\"text-align: right;\">\n",
       "      <th></th>\n",
       "      <th>city1</th>\n",
       "      <th>country1</th>\n",
       "      <th>city2</th>\n",
       "      <th>country2</th>\n",
       "    </tr>\n",
       "  </thead>\n",
       "  <tbody>\n",
       "    <tr>\n",
       "      <th>0</th>\n",
       "      <td>paris</td>\n",
       "      <td>france</td>\n",
       "      <td>rome</td>\n",
       "      <td>italy</td>\n",
       "    </tr>\n",
       "    <tr>\n",
       "      <th>1</th>\n",
       "      <td>rome</td>\n",
       "      <td>italy</td>\n",
       "      <td>madrid</td>\n",
       "      <td>spain</td>\n",
       "    </tr>\n",
       "    <tr>\n",
       "      <th>2</th>\n",
       "      <td>madrid</td>\n",
       "      <td>spain</td>\n",
       "      <td>berlin</td>\n",
       "      <td>germany</td>\n",
       "    </tr>\n",
       "    <tr>\n",
       "      <th>3</th>\n",
       "      <td>berlin</td>\n",
       "      <td>germany</td>\n",
       "      <td>paris</td>\n",
       "      <td>france</td>\n",
       "    </tr>\n",
       "    <tr>\n",
       "      <th>4</th>\n",
       "      <td>king</td>\n",
       "      <td>man</td>\n",
       "      <td>queen</td>\n",
       "      <td>woman</td>\n",
       "    </tr>\n",
       "  </tbody>\n",
       "</table>\n",
       "</div>"
      ],
      "text/plain": [
       "    city1 country1   city2 country2\n",
       "0   paris   france    rome    italy\n",
       "1    rome    italy  madrid    spain\n",
       "2  madrid    spain  berlin  germany\n",
       "3  berlin  germany   paris   france\n",
       "4    king      man   queen    woman"
      ]
     },
     "execution_count": 2,
     "metadata": {},
     "output_type": "execute_result"
    }
   ],
   "source": [
    "import numpy as np\n",
    "import pandas as pd\n",
    "import matplotlib.pyplot as plt\n",
    "\n",
    "# Define a small synthetic word embedding dictionary (vectors in 5D for simplicity)\n",
    "word_embeddings = {\n",
    "    'king':     np.array([0.8, 0.6, 0.7, 0.9, 0.5]),\n",
    "    'queen':    np.array([0.82, 0.58, 0.72, 0.88, 0.52]),\n",
    "    'man':      np.array([0.7, 0.5, 0.6, 0.8, 0.4]),\n",
    "    'woman':    np.array([0.72, 0.48, 0.62, 0.78, 0.42]),\n",
    "    'paris':    np.array([0.1, 0.9, 0.2, 0.8, 0.3]),\n",
    "    'france':   np.array([0.12, 0.88, 0.22, 0.78, 0.32]),\n",
    "    'rome':     np.array([0.2, 0.8, 0.3, 0.7, 0.4]),\n",
    "    'italy':    np.array([0.22, 0.78, 0.32, 0.68, 0.42]),\n",
    "    'madrid':   np.array([0.3, 0.7, 0.4, 0.6, 0.5]),\n",
    "    'spain':    np.array([0.32, 0.68, 0.42, 0.58, 0.52]),\n",
    "    'berlin':   np.array([0.4, 0.6, 0.5, 0.5, 0.6]),\n",
    "    'germany':  np.array([0.42, 0.58, 0.52, 0.48, 0.62]),\n",
    "    'happy':    np.array([0.9, 0.1, 0.8, 0.2, 0.7]),\n",
    "    'sad':      np.array([0.1, 0.9, 0.2, 0.8, 0.3]),\n",
    "    'joyful':   np.array([0.88, 0.12, 0.78, 0.22, 0.68]),\n",
    "    'oil':      np.array([0.5, 0.2, 0.7, 0.1, 0.6]),\n",
    "    'gas':      np.array([0.52, 0.18, 0.72, 0.08, 0.62]),\n",
    "    'petroleum':np.array([0.54, 0.16, 0.74, 0.06, 0.64]),\n",
    "    'city':     np.array([0.3, 0.7, 0.4, 0.6, 0.5]),\n",
    "    'town':     np.array([0.28, 0.72, 0.38, 0.62, 0.48]),\n",
    "    'village':  np.array([0.26, 0.74, 0.36, 0.64, 0.46]),\n",
    "    'country':  np.array([0.4, 0.6, 0.5, 0.5, 0.6]),\n",
    "    'continent':np.array([0.6, 0.4, 0.7, 0.3, 0.8])\n",
    "}\n",
    "\n",
    "# Create a synthetic analogy dataset (city1, country1, city2, country2)\n",
    "data = pd.DataFrame([\n",
    "    ['paris', 'france', 'rome', 'italy'],\n",
    "    ['rome', 'italy', 'madrid', 'spain'],\n",
    "    ['madrid', 'spain', 'berlin', 'germany'],\n",
    "    ['berlin', 'germany', 'paris', 'france'],\n",
    "    ['king', 'man', 'queen', 'woman'],\n",
    "    ['happy', 'joyful', 'sad', 'joyful'],\n",
    "    ['oil', 'petroleum', 'gas', 'petroleum'],\n",
    "    ['city', 'country', 'village', 'country']\n",
    "], columns=['city1', 'country1', 'city2', 'country2'])\n",
    "\n",
    "print('Loaded', len(word_embeddings), 'synthetic word vectors.')\n",
    "data.head()"
   ]
  },
  {
   "cell_type": "markdown",
   "id": "7c477696",
   "metadata": {},
   "source": [
    "## 2. Cosine Similarity\n",
    "Let's define a function to compute the cosine similarity between two word vectors."
   ]
  },
  {
   "cell_type": "code",
   "execution_count": 3,
   "id": "1051119b",
   "metadata": {},
   "outputs": [
    {
     "name": "stdout",
     "output_type": "stream",
     "text": [
      "Cosine similarity (king, queen): 0.9996187484134804\n"
     ]
    }
   ],
   "source": [
    "def cosine_similarity(A, B):\n",
    "    dot = np.dot(A, B)\n",
    "    norma = np.linalg.norm(A)\n",
    "    normb = np.linalg.norm(B)\n",
    "    cos = dot / (norma * normb)\n",
    "    return cos\n",
    "\n",
    "# Example\n",
    "print('Cosine similarity (king, queen):', cosine_similarity(word_embeddings['king'], word_embeddings['queen']))"
   ]
  },
  {
   "cell_type": "markdown",
   "id": "e4243a65",
   "metadata": {},
   "source": [
    "## 3. Euclidean Distance\n",
    "Now, let's define a function to compute the Euclidean distance between two word vectors."
   ]
  },
  {
   "cell_type": "code",
   "execution_count": 4,
   "id": "be7a50e0",
   "metadata": {},
   "outputs": [
    {
     "name": "stdout",
     "output_type": "stream",
     "text": [
      "Euclidean distance (king, queen): 0.04472135954999579\n"
     ]
    }
   ],
   "source": [
    "def euclidean(A, B):\n",
    "    d = np.linalg.norm(A - B)\n",
    "    return d\n",
    "\n",
    "# Example\n",
    "print('Euclidean distance (king, queen):', euclidean(word_embeddings['king'], word_embeddings['queen']))"
   ]
  },
  {
   "cell_type": "markdown",
   "id": "1ca0f68c",
   "metadata": {},
   "source": [
    "## 4. Predicting Countries from Capitals\n",
    "Let's use the embeddings to predict the country given a capital, using vector arithmetic and cosine similarity."
   ]
  },
  {
   "cell_type": "code",
   "execution_count": 6,
   "id": "8573dedd",
   "metadata": {},
   "outputs": [
    {
     "name": "stdout",
     "output_type": "stream",
     "text": [
      "paris is to france as rome is to: ('italy', np.float64(1.0000000000000002))\n"
     ]
    }
   ],
   "source": [
    "def get_country(city1, country1, city2, word_embeddings, cosine_similarity=cosine_similarity):\n",
    "    group = (city1, country1, city2)\n",
    "    city1_emb = word_embeddings[city1]\n",
    "    country1_emb = word_embeddings[country1]\n",
    "    city2_emb = word_embeddings[city2]\n",
    "    vec = country1_emb - city1_emb + city2_emb\n",
    "    similarity = -1\n",
    "    country = ''\n",
    "    for word in word_embeddings.keys():\n",
    "        if word not in group:\n",
    "            word_emb = word_embeddings[word]\n",
    "            cur_similarity = cosine_similarity(vec, word_emb)\n",
    "            if cur_similarity > similarity:\n",
    "                similarity = cur_similarity\n",
    "                country = (word, similarity)\n",
    "    return country\n",
    "\n",
    "# Example\n",
    "print('paris is to france as rome is to:', get_country('paris', 'france', 'rome', word_embeddings))"
   ]
  },
  {
   "cell_type": "markdown",
   "id": "7e70d11e",
   "metadata": {},
   "source": [
    "## 5. Model Accuracy\n",
    "Let's check the accuracy of our model on the capitals dataset."
   ]
  },
  {
   "cell_type": "code",
   "execution_count": 7,
   "id": "6628bc56",
   "metadata": {},
   "outputs": [
    {
     "name": "stdout",
     "output_type": "stream",
     "text": [
      "Accuracy is 0.62\n"
     ]
    },
    {
     "name": "stderr",
     "output_type": "stream",
     "text": [
      "C:\\Users\\Dell\\AppData\\Local\\Temp\\ipykernel_12068\\1043087521.py:4: FutureWarning: Series.__getitem__ treating keys as positions is deprecated. In a future version, integer keys will always be treated as labels (consistent with DataFrame behavior). To access a value by position, use `ser.iloc[pos]`\n",
      "  city1 = row[0]\n",
      "C:\\Users\\Dell\\AppData\\Local\\Temp\\ipykernel_12068\\1043087521.py:5: FutureWarning: Series.__getitem__ treating keys as positions is deprecated. In a future version, integer keys will always be treated as labels (consistent with DataFrame behavior). To access a value by position, use `ser.iloc[pos]`\n",
      "  country1 = row[1]\n",
      "C:\\Users\\Dell\\AppData\\Local\\Temp\\ipykernel_12068\\1043087521.py:6: FutureWarning: Series.__getitem__ treating keys as positions is deprecated. In a future version, integer keys will always be treated as labels (consistent with DataFrame behavior). To access a value by position, use `ser.iloc[pos]`\n",
      "  city2 = row[2]\n",
      "C:\\Users\\Dell\\AppData\\Local\\Temp\\ipykernel_12068\\1043087521.py:7: FutureWarning: Series.__getitem__ treating keys as positions is deprecated. In a future version, integer keys will always be treated as labels (consistent with DataFrame behavior). To access a value by position, use `ser.iloc[pos]`\n",
      "  country2 = row[3]\n"
     ]
    }
   ],
   "source": [
    "def get_accuracy(word_embeddings, data, get_country=get_country):\n",
    "    num_correct = 0\n",
    "    for i, row in data.iterrows():\n",
    "        city1 = row[0]\n",
    "        country1 = row[1]\n",
    "        city2 = row[2]\n",
    "        country2 = row[3]\n",
    "        predicted_country2, _ = get_country(city1, country1, city2, word_embeddings)\n",
    "        if predicted_country2 == country2:\n",
    "            num_correct += 1\n",
    "    accuracy = num_correct / len(data)\n",
    "    return accuracy\n",
    "\n",
    "accuracy = get_accuracy(word_embeddings, data)\n",
    "print(f'Accuracy is {accuracy:.2f}')"
   ]
  },
  {
   "cell_type": "markdown",
   "id": "a06db28e",
   "metadata": {},
   "source": [
    "## 6. PCA for Visualization\n",
    "Let's use PCA to reduce the dimensionality of word vectors and plot them in 2D."
   ]
  },
  {
   "cell_type": "code",
   "execution_count": 8,
   "id": "4da36024",
   "metadata": {},
   "outputs": [
    {
     "name": "stdout",
     "output_type": "stream",
     "text": [
      "You have 11 words each of 5 dimensions thus X.shape is: (11, 5)\n"
     ]
    },
    {
     "data": {
      "image/png": "[encoded data removed]",
      "text/plain": [
       "<Figure size 800x600 with 1 Axes>"
      ]
     },
     "metadata": {},
     "output_type": "display_data"
    }
   ],
   "source": [
    "def compute_pca(X, n_components=2):\n",
    "    X_demeaned = X - np.mean(X, axis=0)\n",
    "    covariance_matrix = np.cov(X_demeaned, rowvar=False)\n",
    "    eigen_vals, eigen_vecs = np.linalg.eigh(covariance_matrix)\n",
    "    idx_sorted = np.argsort(eigen_vals)[::-1]\n",
    "    eigen_vecs_sorted = eigen_vecs[:, idx_sorted]\n",
    "    eigen_vecs_subset = eigen_vecs_sorted[:, :n_components]\n",
    "    X_reduced = np.dot(X_demeaned, eigen_vecs_subset)\n",
    "    return X_reduced\n",
    "\n",
    "# Helper to get vectors for a list of words\n",
    "def get_vectors(word_embeddings, words):\n",
    "    return np.array([word_embeddings[w] for w in words])\n",
    "\n",
    "words = ['oil', 'gas', 'happy', 'sad', 'city', 'town', 'village', 'country', 'continent', 'petroleum', 'joyful']\n",
    "X = get_vectors(word_embeddings, words)\n",
    "print('You have', len(words), 'words each of', X.shape[1], 'dimensions thus X.shape is:', X.shape)\n",
    "result = compute_pca(X, 2)\n",
    "plt.figure(figsize=(8,6))\n",
    "plt.scatter(result[:, 0], result[:, 1])\n",
    "for i, word in enumerate(words):\n",
    "    plt.annotate(word, xy=(result[i, 0] - 0.05, result[i, 1] + 0.1))\n",
    "plt.title('Word Embeddings Visualized with PCA')\n",
    "plt.show()"
   ]
  },
  {
   "cell_type": "markdown",
   "id": "128be627",
   "metadata": {},
   "source": [
    "---\n",
    "You can see that similar words are clustered together in the plot. This demonstrates how word vectors capture semantic relationships!"
   ]
  }
 ],
 "metadata": {
  "kernelspec": {
   "display_name": "env (3.13.7)",
   "language": "python",
   "name": "python3"
  },
  "language_info": {
   "codemirror_mode": {
    "name": "ipython",
    "version": 3
   },
   "file_extension": ".py",
   "mimetype": "text/x-python",
   "name": "python",
   "nbconvert_exporter": "python",
   "pygments_lexer": "ipython3",
   "version": "3.13.7"
  }
 },
 "nbformat": 4,
 "nbformat_minor": 5
}
