{
 "cells": [
  {
   "cell_type": "markdown",
   "id": "c268609c",
   "metadata": {},
   "source": [
    "## Spacy Implementation"
   ]
  },
  {
   "cell_type": "code",
   "execution_count": 1,
   "id": "aed31019",
   "metadata": {},
   "outputs": [],
   "source": [
    "import spacy\n",
    "\n",
    "model = spacy.load(\"en_core_web_sm\")"
   ]
  },
  {
   "cell_type": "code",
   "execution_count": 2,
   "id": "ad9df832",
   "metadata": {},
   "outputs": [
    {
     "name": "stdout",
     "output_type": "stream",
     "text": [
      "text -- POS\n",
      " ---------\n",
      "I -- PRON\n",
      "bought -- VERB\n",
      "a -- DET\n",
      "pair -- NOUN\n",
      "of -- ADP\n",
      "watch -- NOUN\n",
      "for -- ADP\n",
      "Tom -- PROPN\n",
      "and -- CCONJ\n",
      "Elizabeth -- PROPN\n",
      "which -- PRON\n",
      "costs -- VERB\n",
      "$ -- SYM\n",
      "50 -- NUM\n",
      "each -- PRON\n",
      ". -- PUNCT\n"
     ]
    }
   ],
   "source": [
    "text = \"I bought a pair of watch for Tom and Elizabeth which costs $50 each.\"\n",
    "processed = model(text)\n",
    "\n",
    "\n",
    "print(\"text -- POS\\n ---------\")\n",
    "for token in processed:\n",
    "    print(f\"{token.text} -- {token.pos_}\")"
   ]
  },
  {
   "cell_type": "code",
   "execution_count": 3,
   "id": "3f7ea923",
   "metadata": {},
   "outputs": [
    {
     "name": "stdout",
     "output_type": "stream",
     "text": [
      "text -- POS -- POS hash\n",
      " ---------\n",
      "I -- PRON -- 95\n",
      "bought -- VERB -- 100\n",
      "a -- DET -- 90\n",
      "pair -- NOUN -- 92\n",
      "of -- ADP -- 85\n",
      "watch -- NOUN -- 92\n",
      "for -- ADP -- 85\n",
      "Tom -- PROPN -- 96\n",
      "and -- CCONJ -- 89\n",
      "Elizabeth -- PROPN -- 96\n",
      "which -- PRON -- 95\n",
      "costs -- VERB -- 100\n",
      "$ -- SYM -- 99\n",
      "50 -- NUM -- 93\n",
      "each -- PRON -- 95\n",
      ". -- PUNCT -- 97\n"
     ]
    }
   ],
   "source": [
    "print(\"text -- POS -- POS hash\\n ---------\")\n",
    "for token in processed:\n",
    "    print(f\"{token.text} -- {token.pos_} -- {token.pos}\")"
   ]
  },
  {
   "cell_type": "code",
   "execution_count": 4,
   "id": "6bc7d147",
   "metadata": {},
   "outputs": [
    {
     "data": {
      "text/plain": [
       "['tok2vec', 'tagger', 'parser', 'attribute_ruler', 'lemmatizer', 'ner']"
      ]
     },
     "execution_count": 4,
     "metadata": {},
     "output_type": "execute_result"
    }
   ],
   "source": [
    "# NLP pipelines\n",
    "model.pipe_names"
   ]
  },
  {
   "cell_type": "code",
   "execution_count": 5,
   "id": "46f4b48b",
   "metadata": {},
   "outputs": [
    {
     "data": {
      "text/plain": [
       "['tok2vec', 'tagger', 'attribute_ruler', 'lemmatizer']"
      ]
     },
     "execution_count": 5,
     "metadata": {},
     "output_type": "execute_result"
    }
   ],
   "source": [
    "model.disable_pipes('parser', 'ner')\n",
    "model.pipe_names"
   ]
  },
  {
   "cell_type": "markdown",
   "id": "607d4480",
   "metadata": {},
   "source": [
    "## Gensim Implementation"
   ]
  },
  {
   "cell_type": "code",
   "execution_count": null,
   "id": "23cef6b7",
   "metadata": {},
   "outputs": [],
   "source": [
    "import gensim\n",
    "from gensim.corpora import Dictionary\n",
    "\n",
    "document = [\"Tomorrow Tom and Elizabeth are getting married, I need to buy a gift for them.\",\n",
    "            \"I bought a pair of watch for Tom and Elizabeth which costs $50 each.\"]\n",
    "\n",
    "\n",
    "# Tokenization\n",
    "tokens = [[token for token in docs.split()] for docs in document]\n",
    "\n",
    "# Create dictionary\n",
    "dictionary = Dictionary(tokens)\n",
    "print(dictionary)"
   ]
  }
 ],
 "metadata": {
  "kernelspec": {
   "display_name": ".venv (3.12.6)",
   "language": "python",
   "name": "python3"
  },
  "language_info": {
   "codemirror_mode": {
    "name": "ipython",
    "version": 3
   },
   "file_extension": ".py",
   "mimetype": "text/x-python",
   "name": "python",
   "nbconvert_exporter": "python",
   "pygments_lexer": "ipython3",
   "version": "3.12.6"
  }
 },
 "nbformat": 4,
 "nbformat_minor": 5
}
